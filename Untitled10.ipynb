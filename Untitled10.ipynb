{
  "nbformat": 4,
  "nbformat_minor": 0,
  "metadata": {
    "colab": {
      "provenance": []
    },
    "kernelspec": {
      "name": "python3",
      "display_name": "Python 3"
    },
    "language_info": {
      "name": "python"
    }
  },
  "cells": [
    {
      "cell_type": "code",
      "execution_count": 1,
      "metadata": {
        "id": "s6sofktbJdxW"
      },
      "outputs": [],
      "source": [
        "import pandas as pd"
      ]
    },
    {
      "cell_type": "code",
      "source": [
        "import numpy as np"
      ],
      "metadata": {
        "id": "NuziOMokKQ0w"
      },
      "execution_count": 2,
      "outputs": []
    },
    {
      "cell_type": "code",
      "source": [
        "import seaborn as sns"
      ],
      "metadata": {
        "id": "VyatAIkUKUE5"
      },
      "execution_count": 3,
      "outputs": []
    },
    {
      "cell_type": "code",
      "source": [
        "df= pd.read_csv(\"energydata_complete.csv\")"
      ],
      "metadata": {
        "id": "F4Sjb7C_J-Ty"
      },
      "execution_count": 5,
      "outputs": []
    },
    {
      "cell_type": "code",
      "source": [
        "column_names = {'T1':'Temperature_in_kitchen_area_(°C)', 'RH_1':'Humidity_in_kitchen_area_(%)', 'T2':'Temperature_in_living_room_area_(°C)', 'RH_2':'Humidity_in_living_room_area_(%)', 'T3':'Temperature_in_laundry_room_area', 'RH_3':'Humidity_in_laundry_room_area_(%)', 'T4':'Temperature_in_office_room_(°C)', 'RH_4':'Humidity_in_office_room_(%)', 'T5':'Temperature_in_bathroom_(°C)', 'RH_5':'Humidity_in_bathroom_(%)', 'T6':'Temperature_outside_the_building_(north_side)_(°C)', 'RH_6':'Humidity_outside_the_building_(north_side)_(%)', 'T7':'Temperature_in_ironing_room_(°C)', 'RH_7':'Humidity_in_ironing_room_(%)', 'T8':'Temperature_in_teenager_room_2_(°C)', 'RH_8':'Humidity_in_teenager_room_2_(%)', 'T9':'Temperature_in_parents_room_(°C)', 'RH_9':'Humidity_in_parents_room_(%)', 'T_out':'Temperature_outside_(from_Chievres_weather_station)°C', 'Press_mm_hg':'Pressure_from_Chievres_weather_station_in_mm_Hg', 'RH_out':'Humidity_outside_from_Chievres_weather_station_(%)', 'Wind speed':'Windspeed_(m/s)', 'Visibility':'Visibility_(km)', 'Tdewpoint': 'Tdewpoint_(Â°C)', 'rv1':'Random_variable_1_(nondimensional)', 'rv2':'Random_variable_2_(nondimensional)'}"
      ],
      "metadata": {
        "id": "ClfyJ5NoKXmQ"
      },
      "execution_count": 6,
      "outputs": []
    },
    {
      "cell_type": "code",
      "source": [
        "df= df.rename(columns=column_names)"
      ],
      "metadata": {
        "id": "HLjgRl09Tjrw"
      },
      "execution_count": 7,
      "outputs": []
    },
    {
      "cell_type": "code",
      "source": [
        "simple_linear_reg_df = df[['Temperature_in_living_room_area_(°C)', 'Temperature_outside_the_building_(north_side)_(°C)']].sample(15, random_state=2)"
      ],
      "metadata": {
        "id": "AHKCvEQ-UMH1"
      },
      "execution_count": 8,
      "outputs": []
    },
    {
      "cell_type": "code",
      "source": [
        "import matplotlib.pylab"
      ],
      "metadata": {
        "id": "E_1N8f9JWt90"
      },
      "execution_count": 9,
      "outputs": []
    },
    {
      "cell_type": "code",
      "source": [
        "sns.regplot(x = 'Temperature_in_living_room_area_(°C)', y='Temperature_outside_the_building_(north_side)_(°C)',\n",
        "data=simple_linear_reg_df)"
      ],
      "metadata": {
        "colab": {
          "base_uri": "https://localhost:8080/",
          "height": 319
        },
        "id": "OVRKwmiKU9ky",
        "outputId": "a2bf23cb-bfb2-4b55-a847-829de44ccc53"
      },
      "execution_count": 10,
      "outputs": [
        {
          "output_type": "execute_result",
          "data": {
            "text/plain": [
              "<matplotlib.axes._subplots.AxesSubplot at 0x7f99d4bb49a0>"
            ]
          },
          "metadata": {},
          "execution_count": 10
        },
        {
          "output_type": "display_data",
          "data": {
            "text/plain": [
              "<Figure size 432x288 with 1 Axes>"
            ],
            "image/png": "[encoded data removed]"
          },
          "metadata": {
            "needs_background": "light"
          }
        }
      ]
    },
    {
      "cell_type": "code",
      "source": [
        "from sklearn.preprocessing import MinMaxScaler\n",
        "\n"
      ],
      "metadata": {
        "id": "IszdNNE8cxSF"
      },
      "execution_count": 11,
      "outputs": []
    },
    {
      "cell_type": "code",
      "source": [
        "scaler = MinMaxScaler()\n"
      ],
      "metadata": {
        "id": "ksKiMEKdJt39"
      },
      "execution_count": 16,
      "outputs": []
    },
    {
      "cell_type": "code",
      "source": [
        "from numpy import math"
      ],
      "metadata": {
        "id": "pCiHfnUTMOdr"
      },
      "execution_count": 22,
      "outputs": []
    },
    {
      "cell_type": "code",
      "source": [
        "from sklearn.model_selection import train_test_split"
      ],
      "metadata": {
        "id": "sPxun9evLuhF"
      },
      "execution_count": 18,
      "outputs": []
    },
    {
      "cell_type": "code",
      "source": [
        "from sklearn.metrics import mean_absolute_error\n"
      ],
      "metadata": {
        "id": "hLTz5RCYLyon"
      },
      "execution_count": 19,
      "outputs": []
    },
    {
      "cell_type": "code",
      "source": [
        "from sklearn.metrics import mean_squared_error"
      ],
      "metadata": {
        "id": "DbLRHHmfL8cX"
      },
      "execution_count": 20,
      "outputs": []
    },
    {
      "cell_type": "code",
      "source": [
        "from sklearn.metrics import r2_score"
      ],
      "metadata": {
        "id": "GhlR8lgLMAuX"
      },
      "execution_count": 21,
      "outputs": []
    },
    {
      "cell_type": "code",
      "source": [
        "x = df['Temperature_outside_the_building_(north_side)_(°C)'].values"
      ],
      "metadata": {
        "id": "1ALR1ALCMRfW"
      },
      "execution_count": 27,
      "outputs": []
    },
    {
      "cell_type": "code",
      "source": [
        "y = df['Temperature_in_living_room_area_(°C)'].values"
      ],
      "metadata": {
        "id": "BOoXA0blPgCZ"
      },
      "execution_count": 28,
      "outputs": []
    },
    {
      "cell_type": "code",
      "source": [
        "x_train, x_test, y_train, y_test = train_test_split(x, y,\n",
        "test_size=0.3, random_state=1)"
      ],
      "metadata": {
        "id": "waXReIW2P8E1"
      },
      "execution_count": 50,
      "outputs": []
    },
    {
      "cell_type": "code",
      "source": [
        "scaler = MinMaxScaler()"
      ],
      "metadata": {
        "id": "miqXVux1QcG6"
      },
      "execution_count": 53,
      "outputs": []
    },
    {
      "cell_type": "code",
      "source": [
        "from sklearn.metrics import r2_score\n",
        "r2_score = r2_score(y_test, x_test)\n"
      ],
      "metadata": {
        "id": "YOHECymLST0W"
      },
      "execution_count": 63,
      "outputs": []
    },
    {
      "cell_type": "code",
      "source": [
        "round(r2_score, 2)"
      ],
      "metadata": {
        "colab": {
          "base_uri": "https://localhost:8080/"
        },
        "id": "OlXQDFnTTM8F",
        "outputId": "ccae15a4-7823-4054-8582-d30aae05e6f3"
      },
      "execution_count": 64,
      "outputs": [
        {
          "output_type": "execute_result",
          "data": {
            "text/plain": [
              "-35.75"
            ]
          },
          "metadata": {},
          "execution_count": 64
        }
      ]
    },
    {
      "cell_type": "code",
      "source": [
        "rss = np.sum(np.square(y_test - x_test))\n",
        "round(rss, 2)"
      ],
      "metadata": {
        "colab": {
          "base_uri": "https://localhost:8080/"
        },
        "id": "vnw8PAkzUlZv",
        "outputId": "6369b7c4-1c2a-4e16-aba1-9e4d295314d8"
      },
      "execution_count": 65,
      "outputs": [
        {
          "output_type": "execute_result",
          "data": {
            "text/plain": [
              "1040743.95"
            ]
          },
          "metadata": {},
          "execution_count": 65
        }
      ]
    },
    {
      "cell_type": "code",
      "source": [
        "df.describe()"
      ],
      "metadata": {
        "colab": {
          "base_uri": "https://localhost:8080/",
          "height": 411
        },
        "id": "1xHo96c1VTFC",
        "outputId": "6be14c0f-d437-44ea-b86a-0e5d962d7c76"
      },
      "execution_count": 66,
      "outputs": [
        {
          "output_type": "execute_result",
          "data": {
            "text/plain": [
              "         Appliances        lights  Temperature_in_kitchen_area_(°C)  \\\n",
              "count  19735.000000  19735.000000                      19735.000000   \n",
              "mean      97.694958      3.801875                         21.686571   \n",
              "std      102.524891      7.935988                          1.606066   \n",
              "min       10.000000      0.000000                         16.790000   \n",
              "25%       50.000000      0.000000                         20.760000   \n",
              "50%       60.000000      0.000000                         21.600000   \n",
              "75%      100.000000      0.000000                         22.600000   \n",
              "max     1080.000000     70.000000                         26.260000   \n",
              "\n",
              "       Humidity_in_kitchen_area_(%)  Temperature_in_living_room_area_(°C)  \\\n",
              "count                  19735.000000                          19735.000000   \n",
              "mean                      40.259739                             20.341219   \n",
              "std                        3.979299                              2.192974   \n",
              "min                       27.023333                             16.100000   \n",
              "25%                       37.333333                             18.790000   \n",
              "50%                       39.656667                             20.000000   \n",
              "75%                       43.066667                             21.500000   \n",
              "max                       63.360000                             29.856667   \n",
              "\n",
              "       Humidity_in_living_room_area_(%)  Temperature_in_laundry_room_area  \\\n",
              "count                      19735.000000                      19735.000000   \n",
              "mean                          40.420420                         22.267611   \n",
              "std                            4.069813                          2.006111   \n",
              "min                           20.463333                         17.200000   \n",
              "25%                           37.900000                         20.790000   \n",
              "50%                           40.500000                         22.100000   \n",
              "75%                           43.260000                         23.290000   \n",
              "max                           56.026667                         29.236000   \n",
              "\n",
              "       Humidity_in_laundry_room_area_(%)  Temperature_in_office_room_(°C)  \\\n",
              "count                       19735.000000                     19735.000000   \n",
              "mean                           39.242500                        20.855335   \n",
              "std                             3.254576                         2.042884   \n",
              "min                            28.766667                        15.100000   \n",
              "25%                            36.900000                        19.530000   \n",
              "50%                            38.530000                        20.666667   \n",
              "75%                            41.760000                        22.100000   \n",
              "max                            50.163333                        26.200000   \n",
              "\n",
              "       Humidity_in_office_room_(%)  ...  Temperature_in_parents_room_(°C)  \\\n",
              "count                 19735.000000  ...                      19735.000000   \n",
              "mean                     39.026904  ...                         19.485828   \n",
              "std                       4.341321  ...                          2.014712   \n",
              "min                      27.660000  ...                         14.890000   \n",
              "25%                      35.530000  ...                         18.000000   \n",
              "50%                      38.400000  ...                         19.390000   \n",
              "75%                      42.156667  ...                         20.600000   \n",
              "max                      51.090000  ...                         24.500000   \n",
              "\n",
              "       Humidity_in_parents_room_(%)  \\\n",
              "count                  19735.000000   \n",
              "mean                      41.552401   \n",
              "std                        4.151497   \n",
              "min                       29.166667   \n",
              "25%                       38.500000   \n",
              "50%                       40.900000   \n",
              "75%                       44.338095   \n",
              "max                       53.326667   \n",
              "\n",
              "       Temperature_outside_(from_Chievres_weather_station)°C  \\\n",
              "count                                       19735.000000       \n",
              "mean                                            7.411665       \n",
              "std                                             5.317409       \n",
              "min                                            -5.000000       \n",
              "25%                                             3.666667       \n",
              "50%                                             6.916667       \n",
              "75%                                            10.408333       \n",
              "max                                            26.100000       \n",
              "\n",
              "       Pressure_from_Chievres_weather_station_in_mm_Hg  \\\n",
              "count                                     19735.000000   \n",
              "mean                                        755.522602   \n",
              "std                                           7.399441   \n",
              "min                                         729.300000   \n",
              "25%                                         750.933333   \n",
              "50%                                         756.100000   \n",
              "75%                                         760.933333   \n",
              "max                                         772.300000   \n",
              "\n",
              "       Humidity_outside_from_Chievres_weather_station_(%)     Windspeed  \\\n",
              "count                                       19735.000000   19735.000000   \n",
              "mean                                           79.750418       4.039752   \n",
              "std                                            14.901088       2.451221   \n",
              "min                                            24.000000       0.000000   \n",
              "25%                                            70.333333       2.000000   \n",
              "50%                                            83.666667       3.666667   \n",
              "75%                                            91.666667       5.500000   \n",
              "max                                           100.000000      14.000000   \n",
              "\n",
              "       Visibility_(km)  Tdewpoint_(Â°C)  Random_variable_1_(nondimensional)  \\\n",
              "count     19735.000000     19735.000000                        19735.000000   \n",
              "mean         38.330834         3.760707                           24.988033   \n",
              "std          11.794719         4.194648                           14.496634   \n",
              "min           1.000000        -6.600000                            0.005322   \n",
              "25%          29.000000         0.900000                           12.497889   \n",
              "50%          40.000000         3.433333                           24.897653   \n",
              "75%          40.000000         6.566667                           37.583769   \n",
              "max          66.000000        15.500000                           49.996530   \n",
              "\n",
              "       Random_variable_2_(nondimensional)  \n",
              "count                        19735.000000  \n",
              "mean                            24.988033  \n",
              "std                             14.496634  \n",
              "min                              0.005322  \n",
              "25%                             12.497889  \n",
              "50%                             24.897653  \n",
              "75%                             37.583769  \n",
              "max                             49.996530  \n",
              "\n",
              "[8 rows x 28 columns]"
            ],
            "text/html": [
              "\n",
              "  <div id=\"df-51e015b8-b6ca-417f-8a8d-d2696860f49e\">\n",
              "    <div class=\"colab-df-container\">\n",
              "      <div>\n",
              "<style scoped>\n",
              "    .dataframe tbody tr th:only-of-type {\n",
              "        vertical-align: middle;\n",
              "    }\n",
              "\n",
              "    .dataframe tbody tr th {\n",
              "        vertical-align: top;\n",
              "    }\n",
              "\n",
              "    .dataframe thead th {\n",
              "        text-align: right;\n",
              "    }\n",
              "</style>\n",
              "<table border=\"1\" class=\"dataframe\">\n",
              "  <thead>\n",
              "    <tr style=\"text-align: right;\">\n",
              "      <th></th>\n",
              "      <th>Appliances</th>\n",
              "      <th>lights</th>\n",
              "      <th>Temperature_in_kitchen_area_(°C)</th>\n",
              "      <th>Humidity_in_kitchen_area_(%)</th>\n",
              "      <th>Temperature_in_living_room_area_(°C)</th>\n",
              "      <th>Humidity_in_living_room_area_(%)</th>\n",
              "      <th>Temperature_in_laundry_room_area</th>\n",
              "      <th>Humidity_in_laundry_room_area_(%)</th>\n",
              "      <th>Temperature_in_office_room_(°C)</th>\n",
              "      <th>Humidity_in_office_room_(%)</th>\n",
              "      <th>...</th>\n",
              "      <th>Temperature_in_parents_room_(°C)</th>\n",
              "      <th>Humidity_in_parents_room_(%)</th>\n",
              "      <th>Temperature_outside_(from_Chievres_weather_station)°C</th>\n",
              "      <th>Pressure_from_Chievres_weather_station_in_mm_Hg</th>\n",
              "      <th>Humidity_outside_from_Chievres_weather_station_(%)</th>\n",
              "      <th>Windspeed</th>\n",
              "      <th>Visibility_(km)</th>\n",
              "      <th>Tdewpoint_(Â°C)</th>\n",
              "      <th>Random_variable_1_(nondimensional)</th>\n",
              "      <th>Random_variable_2_(nondimensional)</th>\n",
              "    </tr>\n",
              "  </thead>\n",
              "  <tbody>\n",
              "    <tr>\n",
              "      <th>count</th>\n",
              "      <td>19735.000000</td>\n",
              "      <td>19735.000000</td>\n",
              "      <td>19735.000000</td>\n",
              "      <td>19735.000000</td>\n",
              "      <td>19735.000000</td>\n",
              "      <td>19735.000000</td>\n",
              "      <td>19735.000000</td>\n",
              "      <td>19735.000000</td>\n",
              "      <td>19735.000000</td>\n",
              "      <td>19735.000000</td>\n",
              "      <td>...</td>\n",
              "      <td>19735.000000</td>\n",
              "      <td>19735.000000</td>\n",
              "      <td>19735.000000</td>\n",
              "      <td>19735.000000</td>\n",
              "      <td>19735.000000</td>\n",
              "      <td>19735.000000</td>\n",
              "      <td>19735.000000</td>\n",
              "      <td>19735.000000</td>\n",
              "      <td>19735.000000</td>\n",
              "      <td>19735.000000</td>\n",
              "    </tr>\n",
              "    <tr>\n",
              "      <th>mean</th>\n",
              "      <td>97.694958</td>\n",
              "      <td>3.801875</td>\n",
              "      <td>21.686571</td>\n",
              "      <td>40.259739</td>\n",
              "      <td>20.341219</td>\n",
              "      <td>40.420420</td>\n",
              "      <td>22.267611</td>\n",
              "      <td>39.242500</td>\n",
              "      <td>20.855335</td>\n",
              "      <td>39.026904</td>\n",
              "      <td>...</td>\n",
              "      <td>19.485828</td>\n",
              "      <td>41.552401</td>\n",
              "      <td>7.411665</td>\n",
              "      <td>755.522602</td>\n",
              "      <td>79.750418</td>\n",
              "      <td>4.039752</td>\n",
              "      <td>38.330834</td>\n",
              "      <td>3.760707</td>\n",
              "      <td>24.988033</td>\n",
              "      <td>24.988033</td>\n",
              "    </tr>\n",
              "    <tr>\n",
              "      <th>std</th>\n",
              "      <td>102.524891</td>\n",
              "      <td>7.935988</td>\n",
              "      <td>1.606066</td>\n",
              "      <td>3.979299</td>\n",
              "      <td>2.192974</td>\n",
              "      <td>4.069813</td>\n",
              "      <td>2.006111</td>\n",
              "      <td>3.254576</td>\n",
              "      <td>2.042884</td>\n",
              "      <td>4.341321</td>\n",
              "      <td>...</td>\n",
              "      <td>2.014712</td>\n",
              "      <td>4.151497</td>\n",
              "      <td>5.317409</td>\n",
              "      <td>7.399441</td>\n",
              "      <td>14.901088</td>\n",
              "      <td>2.451221</td>\n",
              "      <td>11.794719</td>\n",
              "      <td>4.194648</td>\n",
              "      <td>14.496634</td>\n",
              "      <td>14.496634</td>\n",
              "    </tr>\n",
              "    <tr>\n",
              "      <th>min</th>\n",
              "      <td>10.000000</td>\n",
              "      <td>0.000000</td>\n",
              "      <td>16.790000</td>\n",
              "      <td>27.023333</td>\n",
              "      <td>16.100000</td>\n",
              "      <td>20.463333</td>\n",
              "      <td>17.200000</td>\n",
              "      <td>28.766667</td>\n",
              "      <td>15.100000</td>\n",
              "      <td>27.660000</td>\n",
              "      <td>...</td>\n",
              "      <td>14.890000</td>\n",
              "      <td>29.166667</td>\n",
              "      <td>-5.000000</td>\n",
              "      <td>729.300000</td>\n",
              "      <td>24.000000</td>\n",
              "      <td>0.000000</td>\n",
              "      <td>1.000000</td>\n",
              "      <td>-6.600000</td>\n",
              "      <td>0.005322</td>\n",
              "      <td>0.005322</td>\n",
              "    </tr>\n",
              "    <tr>\n",
              "      <th>25%</th>\n",
              "      <td>50.000000</td>\n",
              "      <td>0.000000</td>\n",
              "      <td>20.760000</td>\n",
              "      <td>37.333333</td>\n",
              "      <td>18.790000</td>\n",
              "      <td>37.900000</td>\n",
              "      <td>20.790000</td>\n",
              "      <td>36.900000</td>\n",
              "      <td>19.530000</td>\n",
              "      <td>35.530000</td>\n",
              "      <td>...</td>\n",
              "      <td>18.000000</td>\n",
              "      <td>38.500000</td>\n",
              "      <td>3.666667</td>\n",
              "      <td>750.933333</td>\n",
              "      <td>70.333333</td>\n",
              "      <td>2.000000</td>\n",
              "      <td>29.000000</td>\n",
              "      <td>0.900000</td>\n",
              "      <td>12.497889</td>\n",
              "      <td>12.497889</td>\n",
              "    </tr>\n",
              "    <tr>\n",
              "      <th>50%</th>\n",
              "      <td>60.000000</td>\n",
              "      <td>0.000000</td>\n",
              "      <td>21.600000</td>\n",
              "      <td>39.656667</td>\n",
              "      <td>20.000000</td>\n",
              "      <td>40.500000</td>\n",
              "      <td>22.100000</td>\n",
              "      <td>38.530000</td>\n",
              "      <td>20.666667</td>\n",
              "      <td>38.400000</td>\n",
              "      <td>...</td>\n",
              "      <td>19.390000</td>\n",
              "      <td>40.900000</td>\n",
              "      <td>6.916667</td>\n",
              "      <td>756.100000</td>\n",
              "      <td>83.666667</td>\n",
              "      <td>3.666667</td>\n",
              "      <td>40.000000</td>\n",
              "      <td>3.433333</td>\n",
              "      <td>24.897653</td>\n",
              "      <td>24.897653</td>\n",
              "    </tr>\n",
              "    <tr>\n",
              "      <th>75%</th>\n",
              "      <td>100.000000</td>\n",
              "      <td>0.000000</td>\n",
              "      <td>22.600000</td>\n",
              "      <td>43.066667</td>\n",
              "      <td>21.500000</td>\n",
              "      <td>43.260000</td>\n",
              "      <td>23.290000</td>\n",
              "      <td>41.760000</td>\n",
              "      <td>22.100000</td>\n",
              "      <td>42.156667</td>\n",
              "      <td>...</td>\n",
              "      <td>20.600000</td>\n",
              "      <td>44.338095</td>\n",
              "      <td>10.408333</td>\n",
              "      <td>760.933333</td>\n",
              "      <td>91.666667</td>\n",
              "      <td>5.500000</td>\n",
              "      <td>40.000000</td>\n",
              "      <td>6.566667</td>\n",
              "      <td>37.583769</td>\n",
              "      <td>37.583769</td>\n",
              "    </tr>\n",
              "    <tr>\n",
              "      <th>max</th>\n",
              "      <td>1080.000000</td>\n",
              "      <td>70.000000</td>\n",
              "      <td>26.260000</td>\n",
              "      <td>63.360000</td>\n",
              "      <td>29.856667</td>\n",
              "      <td>56.026667</td>\n",
              "      <td>29.236000</td>\n",
              "      <td>50.163333</td>\n",
              "      <td>26.200000</td>\n",
              "      <td>51.090000</td>\n",
              "      <td>...</td>\n",
              "      <td>24.500000</td>\n",
              "      <td>53.326667</td>\n",
              "      <td>26.100000</td>\n",
              "      <td>772.300000</td>\n",
              "      <td>100.000000</td>\n",
              "      <td>14.000000</td>\n",
              "      <td>66.000000</td>\n",
              "      <td>15.500000</td>\n",
              "      <td>49.996530</td>\n",
              "      <td>49.996530</td>\n",
              "    </tr>\n",
              "  </tbody>\n",
              "</table>\n",
              "<p>8 rows × 28 columns</p>\n",
              "</div>\n",
              "      <button class=\"colab-df-convert\" onclick=\"convertToInteractive('df-51e015b8-b6ca-417f-8a8d-d2696860f49e')\"\n",
              "              title=\"Convert this dataframe to an interactive table.\"\n",
              "              style=\"display:none;\">\n",
              "        \n",
              "  <svg xmlns=\"http://www.w3.org/2000/svg\" height=\"24px\"viewBox=\"0 0 24 24\"\n",
              "       width=\"24px\">\n",
              "    <path d=\"M0 0h24v24H0V0z\" fill=\"none\"/>\n",
              "    <path d=\"M18.56 5.44l.94 2.06.94-2.06 2.06-.94-2.06-.94-.94-2.06-.94 2.06-2.06.94zm-11 1L8.5 8.5l.94-2.06 2.06-.94-2.06-.94L8.5 2.5l-.94 2.06-2.06.94zm10 10l.94 2.06.94-2.06 2.06-.94-2.06-.94-.94-2.06-.94 2.06-2.06.94z\"/><path d=\"M17.41 7.96l-1.37-1.37c-.4-.4-.92-.59-1.43-.59-.52 0-1.04.2-1.43.59L10.3 9.45l-7.72 7.72c-.78.78-.78 2.05 0 2.83L4 21.41c.39.39.9.59 1.41.59.51 0 1.02-.2 1.41-.59l7.78-7.78 2.81-2.81c.8-.78.8-2.07 0-2.86zM5.41 20L4 18.59l7.72-7.72 1.47 1.35L5.41 20z\"/>\n",
              "  </svg>\n",
              "      </button>\n",
              "      \n",
              "  <style>\n",
              "    .colab-df-container {\n",
              "      display:flex;\n",
              "      flex-wrap:wrap;\n",
              "      gap: 12px;\n",
              "    }\n",
              "\n",
              "    .colab-df-convert {\n",
              "      background-color: #E8F0FE;\n",
              "      border: none;\n",
              "      border-radius: 50%;\n",
              "      cursor: pointer;\n",
              "      display: none;\n",
              "      fill: #1967D2;\n",
              "      height: 32px;\n",
              "      padding: 0 0 0 0;\n",
              "      width: 32px;\n",
              "    }\n",
              "\n",
              "    .colab-df-convert:hover {\n",
              "      background-color: #E2EBFA;\n",
              "      box-shadow: 0px 1px 2px rgba(60, 64, 67, 0.3), 0px 1px 3px 1px rgba(60, 64, 67, 0.15);\n",
              "      fill: #174EA6;\n",
              "    }\n",
              "\n",
              "    [theme=dark] .colab-df-convert {\n",
              "      background-color: #3B4455;\n",
              "      fill: #D2E3FC;\n",
              "    }\n",
              "\n",
              "    [theme=dark] .colab-df-convert:hover {\n",
              "      background-color: #434B5C;\n",
              "      box-shadow: 0px 1px 3px 1px rgba(0, 0, 0, 0.15);\n",
              "      filter: drop-shadow(0px 1px 2px rgba(0, 0, 0, 0.3));\n",
              "      fill: #FFFFFF;\n",
              "    }\n",
              "  </style>\n",
              "\n",
              "      <script>\n",
              "        const buttonEl =\n",
              "          document.querySelector('#df-51e015b8-b6ca-417f-8a8d-d2696860f49e button.colab-df-convert');\n",
              "        buttonEl.style.display =\n",
              "          google.colab.kernel.accessAllowed ? 'block' : 'none';\n",
              "\n",
              "        async function convertToInteractive(key) {\n",
              "          const element = document.querySelector('#df-51e015b8-b6ca-417f-8a8d-d2696860f49e');\n",
              "          const dataTable =\n",
              "            await google.colab.kernel.invokeFunction('convertToInteractive',\n",
              "                                                     [key], {});\n",
              "          if (!dataTable) return;\n",
              "\n",
              "          const docLinkHtml = 'Like what you see? Visit the ' +\n",
              "            '<a target=\"_blank\" href=https://colab.research.google.com/notebooks/data_table.ipynb>data table notebook</a>'\n",
              "            + ' to learn more about interactive tables.';\n",
              "          element.innerHTML = '';\n",
              "          dataTable['output_type'] = 'display_data';\n",
              "          await google.colab.output.renderOutput(dataTable, element);\n",
              "          const docLink = document.createElement('div');\n",
              "          docLink.innerHTML = docLinkHtml;\n",
              "          element.appendChild(docLink);\n",
              "        }\n",
              "      </script>\n",
              "    </div>\n",
              "  </div>\n",
              "  "
            ]
          },
          "metadata": {},
          "execution_count": 66
        }
      ]
    },
    {
      "cell_type": "code",
      "source": [
        "df.shape"
      ],
      "metadata": {
        "colab": {
          "base_uri": "https://localhost:8080/"
        },
        "id": "Jhwm3cUCVbwn",
        "outputId": "d666c0bb-87b9-4f95-dd73-da856f789e0a"
      },
      "execution_count": 67,
      "outputs": [
        {
          "output_type": "execute_result",
          "data": {
            "text/plain": [
              "(19735, 29)"
            ]
          },
          "metadata": {},
          "execution_count": 67
        }
      ]
    },
    {
      "cell_type": "code",
      "source": [
        "df.info()"
      ],
      "metadata": {
        "colab": {
          "base_uri": "https://localhost:8080/"
        },
        "id": "_i4-X9PNVgTo",
        "outputId": "48a320a7-cf4e-4fe0-d70c-bbea632bab53"
      },
      "execution_count": 68,
      "outputs": [
        {
          "output_type": "stream",
          "name": "stdout",
          "text": [
            "<class 'pandas.core.frame.DataFrame'>\n",
            "RangeIndex: 19735 entries, 0 to 19734\n",
            "Data columns (total 29 columns):\n",
            " #   Column                                                 Non-Null Count  Dtype  \n",
            "---  ------                                                 --------------  -----  \n",
            " 0   date                                                   19735 non-null  object \n",
            " 1   Appliances                                             19735 non-null  int64  \n",
            " 2   lights                                                 19735 non-null  int64  \n",
            " 3   Temperature_in_kitchen_area_(°C)                       19735 non-null  float64\n",
            " 4   Humidity_in_kitchen_area_(%)                           19735 non-null  float64\n",
            " 5   Temperature_in_living_room_area_(°C)                   19735 non-null  float64\n",
            " 6   Humidity_in_living_room_area_(%)                       19735 non-null  float64\n",
            " 7   Temperature_in_laundry_room_area                       19735 non-null  float64\n",
            " 8   Humidity_in_laundry_room_area_(%)                      19735 non-null  float64\n",
            " 9   Temperature_in_office_room_(°C)                        19735 non-null  float64\n",
            " 10  Humidity_in_office_room_(%)                            19735 non-null  float64\n",
            " 11  Temperature_in_bathroom_(°C)                           19735 non-null  float64\n",
            " 12  Humidity_in_bathroom_(%)                               19735 non-null  float64\n",
            " 13  Temperature_outside_the_building_(north_side)_(°C)     19735 non-null  float64\n",
            " 14  Humidity_outside_the_building_(north_side)_(%)         19735 non-null  float64\n",
            " 15  Temperature_in_ironing_room_(°C)                       19735 non-null  float64\n",
            " 16  Humidity_in_ironing_room_(%)                           19735 non-null  float64\n",
            " 17  Temperature_in_teenager_room_2_(°C)                    19735 non-null  float64\n",
            " 18  Humidity_in_teenager_room_2_(%)                        19735 non-null  float64\n",
            " 19  Temperature_in_parents_room_(°C)                       19735 non-null  float64\n",
            " 20  Humidity_in_parents_room_(%)                           19735 non-null  float64\n",
            " 21  Temperature_outside_(from_Chievres_weather_station)°C  19735 non-null  float64\n",
            " 22  Pressure_from_Chievres_weather_station_in_mm_Hg        19735 non-null  float64\n",
            " 23  Humidity_outside_from_Chievres_weather_station_(%)     19735 non-null  float64\n",
            " 24  Windspeed                                              19735 non-null  float64\n",
            " 25  Visibility_(km)                                        19735 non-null  float64\n",
            " 26  Tdewpoint_(Â°C)                                        19735 non-null  float64\n",
            " 27  Random_variable_1_(nondimensional)                     19735 non-null  float64\n",
            " 28  Random_variable_2_(nondimensional)                     19735 non-null  float64\n",
            "dtypes: float64(26), int64(2), object(1)\n",
            "memory usage: 4.4+ MB\n"
          ]
        }
      ]
    }
  ]
}